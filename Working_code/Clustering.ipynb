{
  "nbformat": 4,
  "nbformat_minor": 0,
  "metadata": {
    "colab": {
      "name": "Clustering.ipynb",
      "provenance": [],
      "toc_visible": true,
      "mount_file_id": "1VBB7CJ-7iSN6JAGHHq-KjPQgxxMhWMUo",
      "authorship_tag": "ABX9TyM0Q6cQwa7zvihCwrrOK30b",
      "include_colab_link": true
    },
    "kernelspec": {
      "name": "python3",
      "display_name": "Python 3"
    },
    "language_info": {
      "name": "python"
    }
  },
  "cells": [
    {
      "cell_type": "markdown",
      "metadata": {
        "id": "view-in-github",
        "colab_type": "text"
      },
      "source": [
        "<a href=\"https://colab.research.google.com/github/HerculesVirus/Natural-Language-Processing/blob/master/Working_code/Clustering.ipynb\" target=\"_parent\"><img src=\"https://colab.research.google.com/assets/colab-badge.svg\" alt=\"Open In Colab\"/></a>"
      ]
    },
    {
      "cell_type": "markdown",
      "metadata": {
        "id": "MOlUZxuoQbd2"
      },
      "source": [
        "#Practise Purpose\n"
      ]
    },
    {
      "cell_type": "code",
      "metadata": {
        "id": "DqLI5ju2QWd3"
      },
      "source": [
        ""
      ],
      "execution_count": null,
      "outputs": []
    },
    {
      "cell_type": "markdown",
      "metadata": {
        "id": "65XVM4JYsYxp"
      },
      "source": [
        "#KMean Clustering"
      ]
    },
    {
      "cell_type": "code",
      "metadata": {
        "id": "KT8M28quolfH"
      },
      "source": [
        "Dummy = ['milk bread bread bread',\n",
        "       'bread milk milk bread',\n",
        "       'milk milk milk bread bread bread bread',\n",
        "       'cat cat cat dog dog bark',\n",
        "       'dog dog cat bark mew mew',\n",
        "       'cat dog cat dog mew']"
      ],
      "execution_count": null,
      "outputs": []
    },
    {
      "cell_type": "code",
      "metadata": {
        "id": "-5YnSKIhtE3J"
      },
      "source": [
        "from sklearn.feature_extraction.text import TfidfVectorizer\n",
        "vec = TfidfVectorizer()\n",
        "matrix_input = vec.fit_transform(Dummy)"
      ],
      "execution_count": null,
      "outputs": []
    },
    {
      "cell_type": "code",
      "metadata": {
        "colab": {
          "base_uri": "https://localhost:8080/"
        },
        "id": "EVxjvMn8ZKVj",
        "outputId": "0d7f1cd7-8888-4124-fb53-fe1ccdd0da23"
      },
      "source": [
        "matrix_input"
      ],
      "execution_count": null,
      "outputs": [
        {
          "output_type": "execute_result",
          "data": {
            "text/plain": [
              "<6x6 sparse matrix of type '<class 'numpy.float64'>'\n",
              "\twith 16 stored elements in Compressed Sparse Row format>"
            ]
          },
          "metadata": {
            "tags": []
          },
          "execution_count": 12
        }
      ]
    },
    {
      "cell_type": "code",
      "metadata": {
        "id": "tZjcGuklsdvn"
      },
      "source": [
        "from sklearn.cluster import KMeans"
      ],
      "execution_count": null,
      "outputs": []
    },
    {
      "cell_type": "code",
      "metadata": {
        "id": "k-Zqe9L2sjS3"
      },
      "source": [
        "km  = KMeans(n_clusters= 2)"
      ],
      "execution_count": null,
      "outputs": []
    },
    {
      "cell_type": "code",
      "metadata": {
        "colab": {
          "base_uri": "https://localhost:8080/"
        },
        "id": "srBYlkBPs0-T",
        "outputId": "dc392970-ee5d-48d4-82aa-04877666f3d8"
      },
      "source": [
        "km"
      ],
      "execution_count": null,
      "outputs": [
        {
          "output_type": "execute_result",
          "data": {
            "text/plain": [
              "KMeans(algorithm='auto', copy_x=True, init='k-means++', max_iter=300,\n",
              "       n_clusters=2, n_init=10, n_jobs=None, precompute_distances='auto',\n",
              "       random_state=None, tol=0.0001, verbose=0)"
            ]
          },
          "metadata": {
            "tags": []
          },
          "execution_count": 15
        }
      ]
    },
    {
      "cell_type": "code",
      "metadata": {
        "colab": {
          "base_uri": "https://localhost:8080/"
        },
        "id": "IaDn0xRrs11J",
        "outputId": "2ffc29b2-976d-424e-a382-f18ae5804746"
      },
      "source": [
        "km.fit(matrix_input[:-1])"
      ],
      "execution_count": null,
      "outputs": [
        {
          "output_type": "execute_result",
          "data": {
            "text/plain": [
              "KMeans(algorithm='auto', copy_x=True, init='k-means++', max_iter=300,\n",
              "       n_clusters=2, n_init=10, n_jobs=None, precompute_distances='auto',\n",
              "       random_state=None, tol=0.0001, verbose=0)"
            ]
          },
          "metadata": {
            "tags": []
          },
          "execution_count": 41
        }
      ]
    },
    {
      "cell_type": "code",
      "metadata": {
        "colab": {
          "base_uri": "https://localhost:8080/"
        },
        "id": "flwZkwRltNSn",
        "outputId": "cacaf805-56a3-4803-93ac-63bee67c7976"
      },
      "source": [
        "km.labels_"
      ],
      "execution_count": null,
      "outputs": [
        {
          "output_type": "execute_result",
          "data": {
            "text/plain": [
              "array([0, 0, 0, 1, 1], dtype=int32)"
            ]
          },
          "metadata": {
            "tags": []
          },
          "execution_count": 42
        }
      ]
    },
    {
      "cell_type": "code",
      "metadata": {
        "colab": {
          "base_uri": "https://localhost:8080/"
        },
        "id": "gMLmh-zStTlB",
        "outputId": "6e2d4809-09e9-45c3-8cfc-359a140d6437"
      },
      "source": [
        "km.predict(matrix_input[-1:])"
      ],
      "execution_count": null,
      "outputs": [
        {
          "output_type": "execute_result",
          "data": {
            "text/plain": [
              "array([1], dtype=int32)"
            ]
          },
          "metadata": {
            "tags": []
          },
          "execution_count": 43
        }
      ]
    },
    {
      "cell_type": "markdown",
      "metadata": {
        "id": "MWr0IgpmvVFR"
      },
      "source": [
        "#Nearest Neigbhors Clustering"
      ]
    },
    {
      "cell_type": "code",
      "metadata": {
        "id": "zh4oMCeEvuec"
      },
      "source": [
        "Dummy = ['milk bread bread bread',\n",
        "       'bread milk milk bread',\n",
        "       'milk milk milk bread bread bread bread',\n",
        "       'cat cat cat dog dog bark',\n",
        "       'dog dog cat bark new new',\n",
        "       'cat dog cat dog new']"
      ],
      "execution_count": null,
      "outputs": []
    },
    {
      "cell_type": "code",
      "metadata": {
        "id": "MHxO6XBTufFh"
      },
      "source": [
        "from sklearn.feature_extraction.text import TfidfVectorizer\n",
        "vec = TfidfVectorizer()\n",
        "matrix_x = vec.fit_transform(Dummy)"
      ],
      "execution_count": null,
      "outputs": []
    },
    {
      "cell_type": "code",
      "metadata": {
        "colab": {
          "base_uri": "https://localhost:8080/"
        },
        "id": "11mToZjJvkpb",
        "outputId": "7a0efd90-cc55-420a-812c-9a68f7a1d7b3"
      },
      "source": [
        "from sklearn.neighbors import NearestNeighbors\n",
        "nnc = NearestNeighbors()\n",
        "nnc"
      ],
      "execution_count": null,
      "outputs": [
        {
          "output_type": "execute_result",
          "data": {
            "text/plain": [
              "NearestNeighbors(algorithm='auto', leaf_size=30, metric='minkowski',\n",
              "                 metric_params=None, n_jobs=None, n_neighbors=5, p=2,\n",
              "                 radius=1.0)"
            ]
          },
          "metadata": {
            "tags": []
          },
          "execution_count": 18
        }
      ]
    },
    {
      "cell_type": "code",
      "metadata": {
        "colab": {
          "base_uri": "https://localhost:8080/"
        },
        "id": "j3cX874-wJj-",
        "outputId": "f17380d3-77a8-45ab-c21c-5625c03fd26b"
      },
      "source": [
        "nnc.fit(matrix_x)"
      ],
      "execution_count": null,
      "outputs": [
        {
          "output_type": "execute_result",
          "data": {
            "text/plain": [
              "NearestNeighbors(algorithm='auto', leaf_size=30, metric='minkowski',\n",
              "                 metric_params=None, n_jobs=None, n_neighbors=5, p=2,\n",
              "                 radius=1.0)"
            ]
          },
          "metadata": {
            "tags": []
          },
          "execution_count": 19
        }
      ]
    },
    {
      "cell_type": "code",
      "metadata": {
        "colab": {
          "base_uri": "https://localhost:8080/"
        },
        "id": "3aB3qklKwNKD",
        "outputId": "d4f41a75-9eff-455b-d7dd-ed8bc0f3cadb"
      },
      "source": [
        "nnc.kneighbors(matrix_x[0],3)"
      ],
      "execution_count": null,
      "outputs": [
        {
          "output_type": "execute_result",
          "data": {
            "text/plain": [
              "(array([[0.        , 0.32036449, 0.45950584]]), array([[0, 2, 1]]))"
            ]
          },
          "metadata": {
            "tags": []
          },
          "execution_count": 20
        }
      ]
    },
    {
      "cell_type": "code",
      "metadata": {
        "colab": {
          "base_uri": "https://localhost:8080/"
        },
        "id": "cO4qhVQtdF8y",
        "outputId": "081b46d1-1c60-4b8e-9d48-6d66f9fa6d54"
      },
      "source": [
        "nnc.radius_neighbors(matrix_x[0], radius=1.0)"
      ],
      "execution_count": null,
      "outputs": [
        {
          "output_type": "execute_result",
          "data": {
            "text/plain": [
              "(array([array([0.        , 0.45950584, 0.32036449])], dtype=object),\n",
              " array([array([0, 1, 2])], dtype=object))"
            ]
          },
          "metadata": {
            "tags": []
          },
          "execution_count": 21
        }
      ]
    },
    {
      "cell_type": "markdown",
      "metadata": {
        "id": "BY3tD4IedjTG"
      },
      "source": [
        "#Hierarchical Clustering \n",
        "\n",
        "\n"
      ]
    },
    {
      "cell_type": "markdown",
      "metadata": {
        "id": "VsrIMkQzf1mw"
      },
      "source": [
        "#Agglomerative Clustering"
      ]
    },
    {
      "cell_type": "code",
      "metadata": {
        "id": "Jao3SEOedpKW"
      },
      "source": [
        "Dummy = ['milk bread bread bread : grocery',\n",
        "       'bread milk milk bread : grocery',\n",
        "       'milk milk milk bread bread bread bread : grocery',\n",
        "       'cat cat cat dog dog bark : pets',\n",
        "       'dog dog cat bark new new : pets',\n",
        "       'cat dog cat dog new cat : pets']"
      ],
      "execution_count": null,
      "outputs": []
    },
    {
      "cell_type": "code",
      "metadata": {
        "id": "Q_nXWhjYgBXE"
      },
      "source": [
        "X , y = [] , []\n",
        "for doc in Dummy:\n",
        "  i, l = doc.split(':')\n",
        "  X.append(i.strip())\n",
        "  y.append(l.strip())"
      ],
      "execution_count": null,
      "outputs": []
    },
    {
      "cell_type": "code",
      "metadata": {
        "id": "ODc1abIggCKf"
      },
      "source": [
        "from sklearn.feature_extraction.text import TfidfVectorizer"
      ],
      "execution_count": null,
      "outputs": []
    },
    {
      "cell_type": "code",
      "metadata": {
        "id": "R-27UtlbgLnj"
      },
      "source": [
        "vec = TfidfVectorizer()"
      ],
      "execution_count": null,
      "outputs": []
    },
    {
      "cell_type": "code",
      "metadata": {
        "id": "IYaQuFApgLjo"
      },
      "source": [
        "matrix_X = vec.fit_transform(X)"
      ],
      "execution_count": null,
      "outputs": []
    },
    {
      "cell_type": "code",
      "metadata": {
        "id": "JSSNI5IngLeE"
      },
      "source": [
        "from sklearn.cluster import AgglomerativeClustering"
      ],
      "execution_count": null,
      "outputs": []
    },
    {
      "cell_type": "code",
      "metadata": {
        "id": "GCvcihQ9gLZb"
      },
      "source": [
        "aggClus = AgglomerativeClustering(n_clusters= 3)"
      ],
      "execution_count": null,
      "outputs": []
    },
    {
      "cell_type": "code",
      "metadata": {
        "colab": {
          "base_uri": "https://localhost:8080/"
        },
        "id": "TjtOv40AgLUR",
        "outputId": "ce959238-5bef-4a82-e1d2-90df45dba92f"
      },
      "source": [
        "aggClus.fit(matrix_X.toarray())"
      ],
      "execution_count": null,
      "outputs": [
        {
          "output_type": "execute_result",
          "data": {
            "text/plain": [
              "AgglomerativeClustering(affinity='euclidean', compute_full_tree='auto',\n",
              "                        connectivity=None, distance_threshold=None,\n",
              "                        linkage='ward', memory=None, n_clusters=3)"
            ]
          },
          "metadata": {
            "tags": []
          },
          "execution_count": 45
        }
      ]
    },
    {
      "cell_type": "code",
      "metadata": {
        "colab": {
          "base_uri": "https://localhost:8080/"
        },
        "id": "0oE1e93lgLED",
        "outputId": "24b392cb-2062-4684-f8ea-b228dfc83736"
      },
      "source": [
        "aggClus.labels_"
      ],
      "execution_count": null,
      "outputs": [
        {
          "output_type": "execute_result",
          "data": {
            "text/plain": [
              "array([0, 0, 0, 1, 2, 1])"
            ]
          },
          "metadata": {
            "tags": []
          },
          "execution_count": 46
        }
      ]
    },
    {
      "cell_type": "code",
      "metadata": {
        "id": "W1kPijHbjNqG"
      },
      "source": [
        "#Cluster Parameter settings\n",
        "#That Cell is Important and I work on later in it."
      ],
      "execution_count": null,
      "outputs": []
    },
    {
      "cell_type": "code",
      "metadata": {
        "id": "s3dSejl4nO4P"
      },
      "source": [
        "#Knee or Elbow  finding\n",
        "import numpy as np\n",
        "docs = np.array([[1,1]  ,[1,3]  ,[2,4]  ,[3,1]  ,[5,3],\n",
        "                 [11,10],[15,12],[12,21],[14,10],[11,13],\n",
        "                 [20,22],[23,21],[24,20],[21,23],[24,25]])"
      ],
      "execution_count": null,
      "outputs": []
    },
    {
      "cell_type": "code",
      "metadata": {
        "id": "-1HANcj9zEFp"
      },
      "source": [
        "from sklearn.cluster import KMeans"
      ],
      "execution_count": null,
      "outputs": []
    },
    {
      "cell_type": "code",
      "metadata": {
        "colab": {
          "base_uri": "https://localhost:8080/"
        },
        "id": "3xN6qsXVzYsD",
        "outputId": "2fca0ee9-afb4-47d0-8510-2b87f1e19db0"
      },
      "source": [
        "km1 = KMeans(n_clusters=1)\n",
        "km2 = KMeans(n_clusters=2)\n",
        "km3 = KMeans(n_clusters=3)\n",
        "km4 = KMeans(n_clusters=4)\n",
        "\n",
        "km1.fit(docs)\n",
        "km2.fit(docs)\n",
        "km3.fit(docs)\n",
        "km4.fit(docs)"
      ],
      "execution_count": null,
      "outputs": [
        {
          "output_type": "execute_result",
          "data": {
            "text/plain": [
              "KMeans(algorithm='auto', copy_x=True, init='k-means++', max_iter=300,\n",
              "       n_clusters=4, n_init=10, n_jobs=None, precompute_distances='auto',\n",
              "       random_state=None, tol=0.0001, verbose=0)"
            ]
          },
          "metadata": {
            "tags": []
          },
          "execution_count": 59
        }
      ]
    },
    {
      "cell_type": "code",
      "metadata": {
        "colab": {
          "base_uri": "https://localhost:8080/",
          "height": 172
        },
        "id": "w57mZWeBzlDB",
        "outputId": "0d7353a6-c080-457e-cfd4-c32a118e76fd"
      },
      "source": [
        "km1.interia_ "
      ],
      "execution_count": null,
      "outputs": [
        {
          "output_type": "error",
          "ename": "AttributeError",
          "evalue": "ignored",
          "traceback": [
            "\u001b[0;31m---------------------------------------------------------------------------\u001b[0m",
            "\u001b[0;31mAttributeError\u001b[0m                            Traceback (most recent call last)",
            "\u001b[0;32m<ipython-input-65-ec9d54cf0c98>\u001b[0m in \u001b[0;36m<module>\u001b[0;34m()\u001b[0m\n\u001b[0;32m----> 1\u001b[0;31m \u001b[0mkm1\u001b[0m\u001b[0;34m.\u001b[0m\u001b[0minteria_\u001b[0m\u001b[0;34m\u001b[0m\u001b[0;34m\u001b[0m\u001b[0m\n\u001b[0m",
            "\u001b[0;31mAttributeError\u001b[0m: 'KMeans' object has no attribute 'interia_'"
          ]
        }
      ]
    },
    {
      "cell_type": "code",
      "metadata": {
        "colab": {
          "base_uri": "https://localhost:8080/",
          "height": 295
        },
        "id": "jbxGM_Am04PT",
        "outputId": "00a6ef1e-da78-4153-9210-cfe625cf7fb8"
      },
      "source": [
        "from matplotlib import pyplot as plt \n",
        "plt.figure()\n",
        "plt.plot([1,2,3,4],[km1.inertia_ ,km2.inertia_ , km3.inertia_ , km4.inertia_])\n",
        "plt.xlabel('No of Clusters')\n",
        "plt.ylabel('SSE')\n",
        "plt.title('Knee finding')\n",
        "plt.show()"
      ],
      "execution_count": null,
      "outputs": [
        {
          "output_type": "display_data",
          "data": {
            "image/png": "[encoded data removed]",
            "text/plain": [
              "<Figure size 432x288 with 1 Axes>"
            ]
          },
          "metadata": {
            "tags": [],
            "needs_background": "light"
          }
        }
      ]
    },
    {
      "cell_type": "code",
      "metadata": {
        "id": "MAKJpeQc3WPS"
      },
      "source": [
        "import pandas as pd\n",
        "corpus = pd.read_csv('/content/drive/MyDrive/8th Semester/NLP/Text Representation/Dataset/Dataset.csv',error_bad_lines =False,encoding = 'Latin-1',delimiter='\\n')\n",
        "raw_data = corpus.values\n",
        "dataset = [raw_data[i][0] for i in range(0,len(raw_data))]"
      ],
      "execution_count": null,
      "outputs": []
    },
    {
      "cell_type": "code",
      "metadata": {
        "id": "cUApIrgP4SSc"
      },
      "source": [
        "from sklearn.feature_extraction.text import TfidfVectorizer\n",
        "vec = TfidfVectorizer(max_features= 100)\n",
        "matrix_input = vec.fit_transform(dataset)"
      ],
      "execution_count": null,
      "outputs": []
    },
    {
      "cell_type": "code",
      "metadata": {
        "id": "mH_VYdpp1-YR"
      },
      "source": [
        "sse = {}\n",
        "for i in range(1,11):\n",
        "  km = KMeans(n_clusters =i)\n",
        "  km.fit(matrix_input)\n",
        "  sse[i] = km.inertia_\n",
        "\n"
      ],
      "execution_count": null,
      "outputs": []
    },
    {
      "cell_type": "code",
      "metadata": {
        "colab": {
          "base_uri": "https://localhost:8080/"
        },
        "id": "7G-FsxP82Ygm",
        "outputId": "303ff88b-5d94-42de-f47b-df27c7fc5bbb"
      },
      "source": [
        "sse"
      ],
      "execution_count": null,
      "outputs": [
        {
          "output_type": "execute_result",
          "data": {
            "text/plain": [
              "{1: 320.08202304829706,\n",
              " 2: 301.44483057770964,\n",
              " 3: 290.25570392414886,\n",
              " 4: 282.02244931631174,\n",
              " 5: 276.221188712419,\n",
              " 6: 272.3192100119795,\n",
              " 7: 267.68400445642976,\n",
              " 8: 264.7906501325876,\n",
              " 9: 262.07269829199697,\n",
              " 10: 259.041424632266}"
            ]
          },
          "metadata": {
            "tags": []
          },
          "execution_count": 79
        }
      ]
    },
    {
      "cell_type": "code",
      "metadata": {
        "colab": {
          "base_uri": "https://localhost:8080/",
          "height": 295
        },
        "id": "bbeGca5-2Z1V",
        "outputId": "ce250b48-dbc0-41fb-bc54-d940da145e12"
      },
      "source": [
        "plt.figure()\n",
        "plt.plot(list(sse.keys()),list(sse.values()))\n",
        "plt.xlabel('# Clusters')\n",
        "plt.ylabel('SSE')\n",
        "plt.title('Knee findinf for Eco-hotel')\n",
        "plt.show()"
      ],
      "execution_count": null,
      "outputs": [
        {
          "output_type": "display_data",
          "data": {
            "image/png": "[encoded data removed]",
            "text/plain": [
              "<Figure size 432x288 with 1 Axes>"
            ]
          },
          "metadata": {
            "tags": [],
            "needs_background": "light"
          }
        }
      ]
    },
    {
      "cell_type": "markdown",
      "metadata": {
        "id": "eZGSkGMly45C"
      },
      "source": [
        "#Clustering PART-2"
      ]
    },
    {
      "cell_type": "code",
      "metadata": {
        "colab": {
          "base_uri": "https://localhost:8080/"
        },
        "id": "hOAy0Ouky4Ux",
        "outputId": "c6e5d27e-e54e-4428-9199-340d116b67b8"
      },
      "source": [
        "corpus = open('/content/drive/MyDrive/8th Semester/NLP/Text Representation/Dataset/Dataset.csv', encoding= 'Latin-1').read()\n",
        "docs = corpus.split('\\n')\n",
        "\n",
        "from sklearn.feature_extraction.text import CountVectorizer\n",
        "vec = CountVectorizer()\n",
        "matrix_input = vec.fit_transform(docs)\n",
        "\n",
        "from sklearn.neighbors import NearestNeighbors\n",
        "nnc = NearestNeighbors(radius = 10.0)\n",
        "nnc.fit(matrix_input)\n",
        "\n",
        "dist, neighbors = nnc.kneighbors(matrix_input[0], 3)\n",
        "print('neighbors', neighbors)\n",
        "print('distances', dist)\n",
        "\n",
        "print('neighbors', neighbors[0][1:])\n",
        "print('distances', dist[0][1:])\n",
        "\n",
        "dist, neighbors = nnc.radius_neighbors(matrix_input[3], radius = 3)\n",
        "print('radius based neighbors: ', neighbors[1:])\n",
        "print('radius based neighbors distances', dist[1:])"
      ],
      "execution_count": null,
      "outputs": [
        {
          "output_type": "stream",
          "text": [
            "neighbors [[  0  28 124]]\n",
            "distances [[0. 1. 1.]]\n",
            "neighbors [ 28 124]\n",
            "distances [1. 1.]\n",
            "radius based neighbors:  []\n",
            "radius based neighbors distances []\n"
          ],
          "name": "stdout"
        }
      ]
    },
    {
      "cell_type": "code",
      "metadata": {
        "id": "wLTtZa0iwTks"
      },
      "source": [
        ""
      ],
      "execution_count": null,
      "outputs": []
    },
    {
      "cell_type": "code",
      "metadata": {
        "id": "Aq90lEsW3mVl"
      },
      "source": [
        ""
      ],
      "execution_count": null,
      "outputs": []
    },
    {
      "cell_type": "code",
      "metadata": {
        "colab": {
          "base_uri": "https://localhost:8080/"
        },
        "id": "1q5FerV94H9f",
        "outputId": "3359a83f-62e3-4622-f77f-d739efb4adb3"
      },
      "source": [
        "import pandas as pd\n",
        "import numpy as np\n",
        "\n",
        "corpus = open('/content/drive/MyDrive/8th Semester/NLP/Validation and Evaluation/Dataset/__sentiDataset.txt', encoding = 'Latin-1').read()\n",
        "docs = corpus.split('\\n')\n",
        "domain, label, rating, X = [], [], [], []\n",
        "for d in docs:\n",
        "    dm, lb, rt, inp = d.split('\\t')\n",
        "    domain.append(dm)\n",
        "    label.append(lb)\n",
        "    rating.append(int(rt))\n",
        "    X.append(inp)\n",
        "\n",
        "from sklearn.feature_extraction.text import CountVectorizer\n",
        "vec = CountVectorizer(max_features = 200, ngram_range = (1, 3))\n",
        "matrix_X = vec.fit_transform(X)\n",
        "\n",
        "from sklearn.neighbors import KNeighborsClassifier\n",
        "from sklearn.naive_bayes import MultinomialNB\n",
        "from sklearn.tree import DecisionTreeClassifier\n",
        "\n",
        "model1 = KNeighborsClassifier(n_neighbors = 3)\n",
        "model2 = KNeighborsClassifier(n_neighbors = 4, weights = 'distance')\n",
        "model3 = MultinomialNB(alpha = 0.1, fit_prior = False)\n",
        "model4 = DecisionTreeClassifier(max_depth = 3)\n",
        "model5 = DecisionTreeClassifier(max_depth = 4)\n",
        "\n",
        "from sklearn.model_selection import KFold\n",
        "kf = KFold(n_splits = 5)\n",
        "\n",
        "from sklearn.metrics import precision_score, recall_score, f1_score\n",
        "\n",
        "m1p, m1r, m1f = 0, 0, 0\n",
        "m2p, m2r, m2f = 0, 0, 0\n",
        "m3p, m3r, m3f = 0, 0, 0\n",
        "m4p, m4r, m4f = 0, 0, 0 \n",
        "m5p, m5r, m5f = 0, 0, 0\n",
        "\n",
        "import numpy as np\n",
        "rating = np.array(rating)\n",
        "\n",
        "for train_ids, test_ids in kf.split(matrix_X):\n",
        "    train_X, test_X = matrix_X[train_ids], matrix_X[test_ids]\n",
        "    train_y, test_y = rating[train_ids], rating[test_ids]\n",
        "    #training models\n",
        "    model1.fit(train_X, train_y)\n",
        "    model2.fit(train_X, train_y)\n",
        "    model3.fit(train_X, train_y)\n",
        "    model4.fit(train_X, train_y)\n",
        "    model5.fit(train_X, train_y)\n",
        "    #testing models\n",
        "    py1 = model1.predict(test_X)\n",
        "    py2 = model2.predict(test_X)\n",
        "    py3 = model3.predict(test_X)\n",
        "    py4 = model4.predict(test_X)\n",
        "    py5 = model5.predict(test_X)\n",
        "    #evaluate\n",
        "    m1p += precision_score(test_y, py1, average = 'macro')\n",
        "    m2p += precision_score(test_y, py2, average = 'macro')\n",
        "    m3p += precision_score(test_y, py3, average = 'macro')\n",
        "    m4p += precision_score(test_y, py4, average = 'macro')\n",
        "    m5p += precision_score(test_y, py5, average = 'macro')\n",
        "    \n",
        "    m1r += recall_score(test_y, py1, average = 'macro')\n",
        "    m2r += recall_score(test_y, py2, average = 'macro')\n",
        "    m3r += recall_score(test_y, py3, average = 'macro')\n",
        "    m4r += recall_score(test_y, py4, average = 'macro')\n",
        "    m5r += recall_score(test_y, py5, average = 'macro')\n",
        "    \n",
        "    m1f += f1_score(test_y, py1, average = 'macro')\n",
        "    m2f += f1_score(test_y, py2, average = 'macro')\n",
        "    m3f += f1_score(test_y, py3, average = 'macro')\n",
        "    m4f += f1_score(test_y, py4, average = 'macro')\n",
        "    m5f += f1_score(test_y, py5, average = 'macro')\n",
        "\n",
        "print('model 1... (5-fold cross validation)...')\n",
        "print('precision score: ', m1p/5.0)\n",
        "print('recall score: ', m1r/5.0)\n",
        "print('f1 score: ', m1f/5.0)\n",
        "\n",
        "print('model 2... (5-fold cross validation)...')\n",
        "print('precision score: ', m2p/5.0)\n",
        "print('recall score: ', m2r/5.0)\n",
        "print('f1 score: ', m2f/5.0)\n",
        "\n",
        "print('model 3... (5-fold cross validation)...')\n",
        "print('precision score: ', m3p/5.0)\n",
        "print('recall score: ', m3r/5.0)\n",
        "print('f1 score: ', m3f/5.0)\n",
        "\n",
        "print('model 4... (5-fold cross validation)...')\n",
        "print('precision score: ', m4p/5.0)\n",
        "print('recall score: ', m4r/5.0)\n",
        "print('f1 score: ', m4f/5.0)\n",
        "\n",
        "print('model 5... (5-fold cross validation)...')\n",
        "print('precision score: ', m5p/5.0)\n",
        "print('recall score: ', m5r/5.0)\n",
        "print('f1 score: ', m5f/5.0)"
      ],
      "execution_count": null,
      "outputs": [
        {
          "output_type": "stream",
          "text": [
            "/usr/local/lib/python3.7/dist-packages/sklearn/metrics/_classification.py:1272: UndefinedMetricWarning: Precision is ill-defined and being set to 0.0 in labels with no predicted samples. Use `zero_division` parameter to control this behavior.\n",
            "  _warn_prf(average, modifier, msg_start, len(result))\n",
            "/usr/local/lib/python3.7/dist-packages/sklearn/metrics/_classification.py:1272: UndefinedMetricWarning: Precision is ill-defined and being set to 0.0 in labels with no predicted samples. Use `zero_division` parameter to control this behavior.\n",
            "  _warn_prf(average, modifier, msg_start, len(result))\n",
            "/usr/local/lib/python3.7/dist-packages/sklearn/metrics/_classification.py:1272: UndefinedMetricWarning: Precision is ill-defined and being set to 0.0 in labels with no predicted samples. Use `zero_division` parameter to control this behavior.\n",
            "  _warn_prf(average, modifier, msg_start, len(result))\n",
            "/usr/local/lib/python3.7/dist-packages/sklearn/metrics/_classification.py:1272: UndefinedMetricWarning: Precision is ill-defined and being set to 0.0 in labels with no predicted samples. Use `zero_division` parameter to control this behavior.\n",
            "  _warn_prf(average, modifier, msg_start, len(result))\n"
          ],
          "name": "stderr"
        },
        {
          "output_type": "stream",
          "text": [
            "model 1... (5-fold cross validation)...\n",
            "precision score:  0.25118962441574777\n",
            "recall score:  0.2603631570434283\n",
            "f1 score:  0.24981247525532374\n",
            "model 2... (5-fold cross validation)...\n",
            "precision score:  0.2574058180319314\n",
            "recall score:  0.2445597949377259\n",
            "f1 score:  0.2446432356033502\n",
            "model 3... (5-fold cross validation)...\n",
            "precision score:  0.3270538707866359\n",
            "recall score:  0.34991039046488037\n",
            "f1 score:  0.3192550734966029\n",
            "model 4... (5-fold cross validation)...\n",
            "precision score:  0.11055\n",
            "recall score:  0.2\n",
            "f1 score:  0.1423450021324904\n",
            "model 5... (5-fold cross validation)...\n",
            "precision score:  0.11552356020695717\n",
            "recall score:  0.19990043928190518\n",
            "f1 score:  0.1423839907140509\n"
          ],
          "name": "stdout"
        },
        {
          "output_type": "stream",
          "text": [
            "/usr/local/lib/python3.7/dist-packages/sklearn/metrics/_classification.py:1272: UndefinedMetricWarning: Precision is ill-defined and being set to 0.0 in labels with no predicted samples. Use `zero_division` parameter to control this behavior.\n",
            "  _warn_prf(average, modifier, msg_start, len(result))\n"
          ],
          "name": "stderr"
        }
      ]
    },
    {
      "cell_type": "code",
      "metadata": {
        "id": "ovkHdXzP8ReO"
      },
      "source": [
        ""
      ],
      "execution_count": null,
      "outputs": []
    }
  ]
}