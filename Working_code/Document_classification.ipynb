{
  "nbformat": 4,
  "nbformat_minor": 0,
  "metadata": {
    "colab": {
      "name": "Document classification.ipynb",
      "provenance": [],
      "mount_file_id": "1AATyaFKcl0kSxXe0NGA0H2Tn4UDajgGE",
      "authorship_tag": "ABX9TyN99BGsXCFMR1YJpMrO+3O2",
      "include_colab_link": true
    },
    "kernelspec": {
      "name": "python3",
      "display_name": "Python 3"
    },
    "language_info": {
      "name": "python"
    }
  },
  "cells": [
    {
      "cell_type": "markdown",
      "metadata": {
        "id": "view-in-github",
        "colab_type": "text"
      },
      "source": [
        "<a href=\"https://colab.research.google.com/github/HerculesVirus/Natural-Language-Processing/blob/master/Working_code/Document_classification.ipynb\" target=\"_parent\"><img src=\"https://colab.research.google.com/assets/colab-badge.svg\" alt=\"Open In Colab\"/></a>"
      ]
    },
    {
      "cell_type": "markdown",
      "metadata": {
        "id": "nD15gtMp77y4"
      },
      "source": [
        "#Practis Purpose"
      ]
    },
    {
      "cell_type": "code",
      "metadata": {
        "id": "z8N4yVtA7Ip9"
      },
      "source": [
        "import pandas as pd"
      ],
      "execution_count": null,
      "outputs": []
    },
    {
      "cell_type": "code",
      "metadata": {
        "id": "swQfN1OL7RQY"
      },
      "source": [
        "Dummy = ['milk bread bread bread : grocery',\n",
        "       'bread milk milk bread : grocery',\n",
        "       'milk milk milk bread bread bread bread : grocery',\n",
        "       'cat cat cat dog dog bark : pets',\n",
        "       'dog dog cat bark new new : pets',\n",
        "       'cat dog cat dog new cat : pets']"
      ],
      "execution_count": null,
      "outputs": []
    },
    {
      "cell_type": "code",
      "metadata": {
        "id": "DLvZSJtk73cC"
      },
      "source": [
        "x , y = [] , []\n",
        "for doc in Dummy:\n",
        "  i, l = doc.split(':')\n",
        "  x.append(i.strip())\n",
        "  y.append(l.strip())\n"
      ],
      "execution_count": null,
      "outputs": []
    },
    {
      "cell_type": "code",
      "metadata": {
        "id": "iYMCMa1O8XDM"
      },
      "source": [
        "from sklearn.feature_extraction.text import CountVectorizer\n",
        "vec = CountVectorizer()\n",
        "matrix_x = vec.fit_transform(x)"
      ],
      "execution_count": null,
      "outputs": []
    },
    {
      "cell_type": "code",
      "metadata": {
        "colab": {
          "base_uri": "https://localhost:8080/"
        },
        "id": "Ib2LiZqi8urO",
        "outputId": "9e7803b1-0b1b-4be3-815c-9fa5b93bee5d"
      },
      "source": [
        "matrix_x"
      ],
      "execution_count": null,
      "outputs": [
        {
          "output_type": "execute_result",
          "data": {
            "text/plain": [
              "<6x6 sparse matrix of type '<class 'numpy.int64'>'\n",
              "\twith 16 stored elements in Compressed Sparse Row format>"
            ]
          },
          "metadata": {
            "tags": []
          },
          "execution_count": 6
        }
      ]
    },
    {
      "cell_type": "code",
      "metadata": {
        "colab": {
          "base_uri": "https://localhost:8080/"
        },
        "id": "2Tt_duPF80SA",
        "outputId": "1dc2d5be-f442-4594-a14f-6568157901d2"
      },
      "source": [
        "matrix_x.toarray() "
      ],
      "execution_count": null,
      "outputs": [
        {
          "output_type": "execute_result",
          "data": {
            "text/plain": [
              "array([[0, 3, 0, 0, 1, 0],\n",
              "       [0, 2, 0, 0, 2, 0],\n",
              "       [0, 4, 0, 0, 3, 0],\n",
              "       [1, 0, 3, 2, 0, 0],\n",
              "       [1, 0, 1, 2, 0, 2],\n",
              "       [0, 0, 3, 2, 0, 1]])"
            ]
          },
          "metadata": {
            "tags": []
          },
          "execution_count": 7
        }
      ]
    },
    {
      "cell_type": "code",
      "metadata": {
        "colab": {
          "base_uri": "https://localhost:8080/"
        },
        "id": "p-b6lA9_84Ds",
        "outputId": "2129895e-3487-49bb-b427-fbde9d11bb97"
      },
      "source": [
        "vec.vocabulary_"
      ],
      "execution_count": null,
      "outputs": [
        {
          "output_type": "execute_result",
          "data": {
            "text/plain": [
              "{'bark': 0, 'bread': 1, 'cat': 2, 'dog': 3, 'milk': 4, 'new': 5}"
            ]
          },
          "metadata": {
            "tags": []
          },
          "execution_count": 8
        }
      ]
    },
    {
      "cell_type": "code",
      "metadata": {
        "id": "LwJCkE_6-Fgp"
      },
      "source": [
        "from sklearn.neighbors import KNeighborsClassifier"
      ],
      "execution_count": null,
      "outputs": []
    },
    {
      "cell_type": "code",
      "metadata": {
        "colab": {
          "base_uri": "https://localhost:8080/"
        },
        "id": "j3IbDOz2-SuH",
        "outputId": "c51b5d63-80dd-4c0b-960b-94f1cc4d4a33"
      },
      "source": [
        "knn = KNeighborsClassifier(n_neighbors=3)\n",
        "knn.fit(matrix_x, y)"
      ],
      "execution_count": null,
      "outputs": [
        {
          "output_type": "execute_result",
          "data": {
            "text/plain": [
              "KNeighborsClassifier(algorithm='auto', leaf_size=30, metric='minkowski',\n",
              "                     metric_params=None, n_jobs=None, n_neighbors=3, p=2,\n",
              "                     weights='uniform')"
            ]
          },
          "metadata": {
            "tags": []
          },
          "execution_count": 10
        }
      ]
    },
    {
      "cell_type": "code",
      "metadata": {
        "colab": {
          "base_uri": "https://localhost:8080/"
        },
        "id": "E29VWlm2-bxT",
        "outputId": "69365a1f-dd2d-48e5-979a-e9dcb5f6c00b"
      },
      "source": [
        "knn.fit(matrix_x,y)"
      ],
      "execution_count": null,
      "outputs": [
        {
          "output_type": "execute_result",
          "data": {
            "text/plain": [
              "KNeighborsClassifier(algorithm='auto', leaf_size=30, metric='minkowski',\n",
              "                     metric_params=None, n_jobs=None, n_neighbors=3, p=2,\n",
              "                     weights='uniform')"
            ]
          },
          "metadata": {
            "tags": []
          },
          "execution_count": 11
        }
      ]
    },
    {
      "cell_type": "code",
      "metadata": {
        "colab": {
          "base_uri": "https://localhost:8080/"
        },
        "id": "oH4u3OgM-gdd",
        "outputId": "7430fd49-7f8f-4f05-8e83-53570f0ef7f6"
      },
      "source": [
        "knn.fit(matrix_x[:5],y[:5])"
      ],
      "execution_count": null,
      "outputs": [
        {
          "output_type": "execute_result",
          "data": {
            "text/plain": [
              "KNeighborsClassifier(algorithm='auto', leaf_size=30, metric='minkowski',\n",
              "                     metric_params=None, n_jobs=None, n_neighbors=3, p=2,\n",
              "                     weights='uniform')"
            ]
          },
          "metadata": {
            "tags": []
          },
          "execution_count": 12
        }
      ]
    },
    {
      "cell_type": "code",
      "metadata": {
        "colab": {
          "base_uri": "https://localhost:8080/"
        },
        "id": "c7WxrYOx-vcM",
        "outputId": "52df35ab-ff72-474d-8285-9317306f17b9"
      },
      "source": [
        "knn.predict(matrix_x[5])"
      ],
      "execution_count": null,
      "outputs": [
        {
          "output_type": "execute_result",
          "data": {
            "text/plain": [
              "array(['pets'], dtype='<U7')"
            ]
          },
          "metadata": {
            "tags": []
          },
          "execution_count": 13
        }
      ]
    },
    {
      "cell_type": "code",
      "metadata": {
        "colab": {
          "base_uri": "https://localhost:8080/"
        },
        "id": "7Ly4psYw-2Av",
        "outputId": "bd4c9b39-63b5-43d3-d198-2c1e446d6ca2"
      },
      "source": [
        "knn.predict_proba(matrix_x[5])"
      ],
      "execution_count": null,
      "outputs": [
        {
          "output_type": "execute_result",
          "data": {
            "text/plain": [
              "array([[0.33333333, 0.66666667]])"
            ]
          },
          "metadata": {
            "tags": []
          },
          "execution_count": 14
        }
      ]
    },
    {
      "cell_type": "code",
      "metadata": {
        "id": "J4vukIyX_Owh"
      },
      "source": [
        "from sklearn.naive_bayes import MultinomialNB"
      ],
      "execution_count": null,
      "outputs": []
    },
    {
      "cell_type": "code",
      "metadata": {
        "id": "e5rdpo_4ABRf"
      },
      "source": [
        "nbc = MultinomialNB()"
      ],
      "execution_count": null,
      "outputs": []
    },
    {
      "cell_type": "code",
      "metadata": {
        "colab": {
          "base_uri": "https://localhost:8080/"
        },
        "id": "BdsmMQ3OAG4-",
        "outputId": "e140fb5b-56fd-4698-c439-e551c97891e4"
      },
      "source": [
        "nbc.fit(matrix_x[:5],y[:5])"
      ],
      "execution_count": null,
      "outputs": [
        {
          "output_type": "execute_result",
          "data": {
            "text/plain": [
              "MultinomialNB(alpha=1.0, class_prior=None, fit_prior=True)"
            ]
          },
          "metadata": {
            "tags": []
          },
          "execution_count": 17
        }
      ]
    },
    {
      "cell_type": "code",
      "metadata": {
        "colab": {
          "base_uri": "https://localhost:8080/"
        },
        "id": "PYqvNSmYAN_1",
        "outputId": "4dbaa084-3c02-4506-b4e7-07ea0fb23326"
      },
      "source": [
        "nbc.fit(matrix_x[:5],y[:5])"
      ],
      "execution_count": null,
      "outputs": [
        {
          "output_type": "execute_result",
          "data": {
            "text/plain": [
              "MultinomialNB(alpha=1.0, class_prior=None, fit_prior=True)"
            ]
          },
          "metadata": {
            "tags": []
          },
          "execution_count": 18
        }
      ]
    },
    {
      "cell_type": "code",
      "metadata": {
        "colab": {
          "base_uri": "https://localhost:8080/"
        },
        "id": "toghVginAZoP",
        "outputId": "4b798eaf-a484-4357-ff74-a4a24b0a6bcc"
      },
      "source": [
        "nbc.predict(matrix_x[5])"
      ],
      "execution_count": null,
      "outputs": [
        {
          "output_type": "execute_result",
          "data": {
            "text/plain": [
              "array(['pets'], dtype='<U7')"
            ]
          },
          "metadata": {
            "tags": []
          },
          "execution_count": 19
        }
      ]
    },
    {
      "cell_type": "code",
      "metadata": {
        "colab": {
          "base_uri": "https://localhost:8080/"
        },
        "id": "6gmc77kqAfmO",
        "outputId": "476d0c98-25ef-410d-8ca3-dbe6bef4e814"
      },
      "source": [
        "nbc.predict_proba(matrix_x[5])"
      ],
      "execution_count": null,
      "outputs": [
        {
          "output_type": "execute_result",
          "data": {
            "text/plain": [
              "array([[6.34470873e-05, 9.99936553e-01]])"
            ]
          },
          "metadata": {
            "tags": []
          },
          "execution_count": 20
        }
      ]
    },
    {
      "cell_type": "code",
      "metadata": {
        "id": "iBOU7-GRAs8S"
      },
      "source": [
        "from sklearn.tree import DecisionTreeClassifier"
      ],
      "execution_count": null,
      "outputs": []
    },
    {
      "cell_type": "code",
      "metadata": {
        "id": "PGaqOgOVA-Tr"
      },
      "source": [
        "dtc = DecisionTreeClassifier(max_depth=3)"
      ],
      "execution_count": null,
      "outputs": []
    },
    {
      "cell_type": "code",
      "metadata": {
        "colab": {
          "base_uri": "https://localhost:8080/"
        },
        "id": "Mzm-TukABBxb",
        "outputId": "929d9259-a478-4400-f5fa-29944bf6fdea"
      },
      "source": [
        "dtc.fit(matrix_x[:5],y[:5])"
      ],
      "execution_count": null,
      "outputs": [
        {
          "output_type": "execute_result",
          "data": {
            "text/plain": [
              "DecisionTreeClassifier(ccp_alpha=0.0, class_weight=None, criterion='gini',\n",
              "                       max_depth=3, max_features=None, max_leaf_nodes=None,\n",
              "                       min_impurity_decrease=0.0, min_impurity_split=None,\n",
              "                       min_samples_leaf=1, min_samples_split=2,\n",
              "                       min_weight_fraction_leaf=0.0, presort='deprecated',\n",
              "                       random_state=None, splitter='best')"
            ]
          },
          "metadata": {
            "tags": []
          },
          "execution_count": 23
        }
      ]
    },
    {
      "cell_type": "code",
      "metadata": {
        "colab": {
          "base_uri": "https://localhost:8080/"
        },
        "id": "mCP6EUy-BJRY",
        "outputId": "9dcddb6f-6842-442c-dd9c-07f861343eed"
      },
      "source": [
        "dtc.predict(matrix_x[5])"
      ],
      "execution_count": null,
      "outputs": [
        {
          "output_type": "execute_result",
          "data": {
            "text/plain": [
              "array(['grocery'], dtype='<U7')"
            ]
          },
          "metadata": {
            "tags": []
          },
          "execution_count": 24
        }
      ]
    },
    {
      "cell_type": "code",
      "metadata": {
        "colab": {
          "base_uri": "https://localhost:8080/"
        },
        "id": "bkAibXHpBYmP",
        "outputId": "084dc9c7-8107-47e0-b62a-ecb10d7650fe"
      },
      "source": [
        "dtc.predict_proba(matrix_x[5])"
      ],
      "execution_count": null,
      "outputs": [
        {
          "output_type": "execute_result",
          "data": {
            "text/plain": [
              "array([[1., 0.]])"
            ]
          },
          "metadata": {
            "tags": []
          },
          "execution_count": 25
        }
      ]
    },
    {
      "cell_type": "code",
      "metadata": {
        "id": "k9rBtgaFBhSq"
      },
      "source": [
        "from sklearn.linear_model import SGDClassifier"
      ],
      "execution_count": null,
      "outputs": []
    },
    {
      "cell_type": "code",
      "metadata": {
        "id": "Dv0XWe5fBpLs"
      },
      "source": [
        "linear = SGDClassifier()"
      ],
      "execution_count": null,
      "outputs": []
    },
    {
      "cell_type": "code",
      "metadata": {
        "colab": {
          "base_uri": "https://localhost:8080/"
        },
        "id": "al19icRdBuwX",
        "outputId": "e3215252-2150-40fd-e0fa-9bf7f3511aff"
      },
      "source": [
        "linear.fit(matrix_x[:5],y[:5])"
      ],
      "execution_count": null,
      "outputs": [
        {
          "output_type": "execute_result",
          "data": {
            "text/plain": [
              "SGDClassifier(alpha=0.0001, average=False, class_weight=None,\n",
              "              early_stopping=False, epsilon=0.1, eta0=0.0, fit_intercept=True,\n",
              "              l1_ratio=0.15, learning_rate='optimal', loss='hinge',\n",
              "              max_iter=1000, n_iter_no_change=5, n_jobs=None, penalty='l2',\n",
              "              power_t=0.5, random_state=None, shuffle=True, tol=0.001,\n",
              "              validation_fraction=0.1, verbose=0, warm_start=False)"
            ]
          },
          "metadata": {
            "tags": []
          },
          "execution_count": 28
        }
      ]
    },
    {
      "cell_type": "code",
      "metadata": {
        "colab": {
          "base_uri": "https://localhost:8080/"
        },
        "id": "RwyYWL_RB2Eg",
        "outputId": "0575c39e-b684-488f-848a-5d236dce8859"
      },
      "source": [
        "linear.predict(matrix_x[5])"
      ],
      "execution_count": null,
      "outputs": [
        {
          "output_type": "execute_result",
          "data": {
            "text/plain": [
              "array(['pets'], dtype='<U7')"
            ]
          },
          "metadata": {
            "tags": []
          },
          "execution_count": 29
        }
      ]
    },
    {
      "cell_type": "markdown",
      "metadata": {
        "id": "SeCrRY6hCHfO"
      },
      "source": [
        "#PART-2"
      ]
    },
    {
      "cell_type": "code",
      "metadata": {
        "id": "Kovm9XmBB-Ku"
      },
      "source": [
        "knn = KNeighborsClassifier(n_neighbors= 3 , algorithm= 'kd_tree' ,weights= 'distance')"
      ],
      "execution_count": null,
      "outputs": []
    },
    {
      "cell_type": "code",
      "metadata": {
        "id": "9f-CFWLyC4iA"
      },
      "source": [
        "nb = MultinomialNB(alpha = 1.0, class_prior= [0.7, 0.3])"
      ],
      "execution_count": null,
      "outputs": []
    },
    {
      "cell_type": "code",
      "metadata": {
        "id": "typlZfdDC93X"
      },
      "source": [
        "dt = DecisionTreeClassifier(max_depth = 2)\n"
      ],
      "execution_count": null,
      "outputs": []
    },
    {
      "cell_type": "code",
      "metadata": {
        "id": "xZPPUuuUQMhX"
      },
      "source": [
        "ln = SGDClassifier(max_iter=1000)"
      ],
      "execution_count": null,
      "outputs": []
    },
    {
      "cell_type": "code",
      "metadata": {
        "colab": {
          "base_uri": "https://localhost:8080/"
        },
        "id": "9F7WA9keQrRp",
        "outputId": "b7236f3b-0e8a-4629-894d-7c0f6b5ebd16"
      },
      "source": [
        "#/content/drive/MyDrive/8th Semester/NLP/Document Classification (Categorization)/Dataset/Dataset.csv'\n",
        "corpus = open('/content/drive/MyDrive/8th Semester/NLP/Document Classification (Categorization)/Dataset/badges.data.txt').read()\n",
        "docs = corpus.split('\\n')\n",
        "print(docs[:5])\n",
        "print(\"length of Docs : \",len(docs))\n",
        "X, y = [], [] \n",
        "for doc in docs:\n",
        "    l = doc[:1]\n",
        "    i = doc[2:]\n",
        "    X.append(i.strip())\n",
        "    y.append(l.strip())\n",
        "print(\"X : \",X)\n",
        "print(\"Y : \",y[284])\n",
        "from sklearn.feature_extraction.text import CountVectorizer\n",
        "vec = CountVectorizer(max_df = 17,max_features= 15)\n",
        "matrix_X = vec.fit_transform(X)\n",
        "from sklearn.tree import DecisionTreeClassifier\n",
        "dt = DecisionTreeClassifier(max_depth = 56)\n",
        "dt.fit(matrix_X[:284], y[:284])\n",
        "#predicted labels of the last four documents\n",
        "print(dt.predict(matrix_X[284:])) \n",
        "#prediction probability of the two labels for each of the last four documents\n",
        "print(dt.predict_proba(matrix_X[284:])) "
      ],
      "execution_count": null,
      "outputs": [
        {
          "output_type": "stream",
          "text": [
            "['+ Naoki Abe', '- Myriam Abramson', '+ David W. Aha', '+ Kamal M. Ali', '- Eric Allender']\n",
            "length of Docs :  294\n",
            "X :  ['Naoki Abe', 'Myriam Abramson', 'David W. Aha', 'Kamal M. Ali', 'Eric Allender', 'Dana Angluin', 'Chidanand Apte', 'Minoru Asada', 'Lars Asker', 'Javed Aslam', 'Haralabos Athanassiou', 'Jose L. Balcazar', 'Timothy P. Barber', 'Michael W. Barley', 'Cristina Baroglio', 'Peter Bartlett', 'Eric Baum', 'Welton Becket', 'Shai Ben-David', 'George Berg', 'Neil Berkman', 'Malini Bhandaru', 'Bir Bhanu', 'Reinhard Blasig', 'Avrim Blum', 'Anselm Blumer', 'Justin Boyan', 'Carla E. Brodley', 'Nader Bshouty', 'Wray Buntine', 'Andrey Burago', 'Tom Bylander', 'Bill Byrne', 'Claire Cardie', 'Richard A. Caruana', 'John Case', 'Jason Catlett', 'Nicolo Cesa-Bianchi', 'Philip Chan', 'Mark Changizi', 'Pang-Chieh Chen', 'Zhixiang Chen', 'Wan P. Chiang', 'Steve A. Chien', 'Jeffery Clouse', 'William Cohen', 'David Cohn', 'Clare Bates Congdon', 'Antoine Cornuejols', 'Mark W. Craven', 'Robert P. Daley', 'Lindley Darden', 'Chris Darken', 'Bhaskar Dasgupta', 'Brian D. Davidson', 'Michael de la Maza', 'Olivier De Vel', 'Scott E. Decatur', 'Gerald F. DeJong', 'Kan Deng', 'Thomas G. Dietterich', 'Michael J. Donahue', 'George A. Drastal', 'Harris Drucker', 'Chris Drummond', 'Hal Duncan', 'Thomas Ellman', 'Tapio Elomaa', 'Susan L. Epstein', 'Bob Evans', 'Claudio Facchinetti', 'Tom Fawcett', 'Usama Fayyad', 'Aaron Feigelson', 'Nicolas Fiechter', 'David Finton', 'John Fischer', 'Paul Fischer', 'Seth Flanders', 'Lance Fortnow', 'Ameur Foued', 'Judy A. Franklin', 'Yoav Freund', 'Johannes Furnkranz', 'Merrick L. Furst', 'Jean Gabriel Ganascia', 'William Gasarch', 'Ricard Gavalda', 'Melinda T. Gervasio', 'Yolanda Gil', 'David Gillman', 'Attilio Giordana', 'Kate Goelz', 'Paul W. Goldberg', 'Sally Goldman', 'Diana Gordon', 'Geoffrey Gordon', 'Jonathan Gratch', 'Leslie Grate', 'William A. Greene', 'Russell Greiner', 'Marko Grobelnik', 'Tal Grossman', 'Margo Guertin', 'Tom Hancock', 'Earl S. Harris Jr.', 'David Haussler', 'Matthias Heger', 'Lisa Hellerstein', 'David Helmbold', 'Daniel Hennessy', 'Haym Hirsh', 'Jonathan Hodgson', 'Robert C. Holte', 'Jiarong Hong', 'Chun-Nan Hsu', 'Kazushi Ikeda', 'Masayuki Inaba', 'Drago Indjic', 'Nitin Indurkhya', 'Jeff Jackson', 'Sanjay Jain', 'Wolfgang Janko', 'Klaus P. Jantke', 'Nathalie Japkowicz', 'George H. John', 'Randolph Jones', 'Michael I. Jordan', 'Leslie Pack Kaelbling', 'Bala Kalyanasundaram', 'Thomas E. Kammeyer', 'Grigoris Karakoulas', 'Michael Kearns', 'Neela Khan', 'Roni Khardon', 'Dennis F. Kibler', 'Jorg-Uwe Kietz', 'Efim Kinber', 'Jyrki Kivinen', 'Emanuel Knill', 'Craig Knoblock', 'Ron Kohavi', 'Pascal Koiran', 'Moshe Koppel', 'Daniel Kortenkamp', 'Matevz Kovacic', 'Stefan Kramer', 'Martinch Krikis', 'Martin Kummer', 'Eyal Kushilevitz', 'Stephen Kwek', 'Wai Lam', 'Ken Lang', 'Steffen Lange', 'Pat Langley', 'Mary Soon Lee', 'Wee Sun Lee', 'Moshe Leshno', 'Long-Ji Lin', 'Charles X. Ling', 'Michael Littman', 'David Loewenstern', 'Phil Long', 'Wolfgang Maass', 'Bruce A. MacDonald', 'Rich Maclin', 'Sridhar Mahadevan', 'J. Jeffrey Mahoney', 'Yishay Mansour', 'Mario Marchand', 'Shaul Markovitch', 'Oded Maron', 'Maja Mataric', 'David Mathias', 'Toshiyasu Matsushima', 'Stan Matwin', 'Eddy Mayoraz', 'R. Andrew McCallum', 'L. Thorne McCarty', 'Alexander M. Meystel', 'Michael A. meystel', 'Steven Minton', 'Nina Mishra', 'Tom M. Mitchell', 'Dunja Mladenic', 'David Montgomery', 'Andrew W. Moore', 'Johanne Morin', 'Hiroshi Motoda', 'Stephen Muggleton', 'Patrick M. Murphy', 'Sreerama K. Murthy', 'Filippo Neri', 'Craig Nevill-Manning', 'Andrew Y. Ng', 'Nikolay Nikolaev', 'Steven W. Norton', \"Joseph O'Sullivan\", 'Dan Oblinger', 'Jong-Hoon Oh', 'Arlindo Oliveira', 'David W. Opitz', 'Sandra Panizza', 'Barak A. Pearlmutter', 'Ed Pednault', 'Jing Peng', 'Fernando Pereira', 'Aurora Perez', 'Bernhard Pfahringer', 'David Pierce', 'Krishnan Pillaipakkamnatt', 'Roberto Piola', 'Leonard Pitt', 'Lorien Y. Pratt', 'Armand Prieditis', 'Foster J. Provost', 'J. R. Quinlan', 'John Rachlin', 'Vijay Raghavan', 'R. Bharat Rao', 'Priscilla Rasmussen', 'Joel Ratsaby', 'Michael Redmond', 'Patricia J. Riddle', 'Lance Riley', 'Ronald L. Rivest', 'Huw Roberts', 'Dana Ron', 'Robert S. Roos', 'Justinian Rosca', 'John R. Rose', 'Dan Roth', 'James S. Royer', 'Ronitt Rubinfeld', 'Stuart Russell', 'Lorenza Saitta', 'Yoshifumi Sakai', 'William Sakas', 'Marcos Salganicoff', 'Steven Salzberg', 'Claude Sammut', 'Cullen Schaffer', 'Robert Schapire', 'Mark Schwabacher', 'Michele Sebag', 'Gary M. Selzer', 'Sebastian Seung', 'Arun Sharma', 'Jude Shavlik', 'Daniel L. Silver', 'Glenn Silverstein', 'Yoram Singer', 'Mona Singh', 'Satinder Pal Singh', 'Kimmen Sjolander', 'David B. Skalak', 'Sean Slattery', 'Robert Sloan', 'Donna Slonim', 'Carl H. Smith', 'Sonya Snedecor', 'Von-Wun Soo', 'Thomas G. Spalthoff', 'Mark Staley', 'Frank Stephan', 'Mandayam T. Suraj', 'Richard S. Sutton', 'Joe Suzuki', 'Prasad Tadepalli', 'Hiroshi Tanaka', 'Irina Tchoumatchenko', 'Brian Tester', 'Chen K. Tham', 'Tatsuo Unemi', 'Lyle H. Ungar', 'Paul Utgoff', 'Karsten Verbeurgt', 'Paul Vitanyi', 'Xuemei Wang', 'Manfred Warmuth', 'Gary Weiss', 'Sholom Weiss', 'Thomas Wengerek', 'Bradley L. Whitehall', 'Alma Whitten', 'Robert Williamson', 'Janusz Wnek', 'Kenji Yamanishi', 'Takefumi Yamazaki', 'Holly Yanco', 'John M. Zelle', 'Thomas Zeugmann', 'Jean-Daniel Zucker', 'Darko Zupanic']\n",
            "Y :  -\n",
            "['+' '+' '+' '+' '+' '+' '+' '-' '+' '+']\n",
            "[[0.68518519 0.31481481]\n",
            " [1.         0.        ]\n",
            " [0.68518519 0.31481481]\n",
            " [0.68518519 0.31481481]\n",
            " [0.68518519 0.31481481]\n",
            " [0.68518519 0.31481481]\n",
            " [1.         0.        ]\n",
            " [0.         1.        ]\n",
            " [1.         0.        ]\n",
            " [0.68518519 0.31481481]]\n"
          ],
          "name": "stdout"
        }
      ]
    },
    {
      "cell_type": "code",
      "metadata": {
        "colab": {
          "base_uri": "https://localhost:8080/"
        },
        "id": "lOxaFqllSRRf",
        "outputId": "8a33f12f-962a-4ba4-c835-72649da30ee7"
      },
      "source": [
        "corpus = open('/content/drive/MyDrive/8th Semester/NLP/Document Classification (Categorization)/Dataset/badges.data.txt').read()\n",
        "docs = corpus.split('\\n')\n",
        "docs\n"
      ],
      "execution_count": null,
      "outputs": [
        {
          "output_type": "execute_result",
          "data": {
            "text/plain": [
              "['+ Naoki Abe',\n",
              " '- Myriam Abramson',\n",
              " '+ David W. Aha',\n",
              " '+ Kamal M. Ali',\n",
              " '- Eric Allender',\n",
              " '+ Dana Angluin',\n",
              " '- Chidanand Apte',\n",
              " '+ Minoru Asada',\n",
              " '+ Lars Asker',\n",
              " '+ Javed Aslam',\n",
              " '+ Haralabos Athanassiou',\n",
              " '+ Jose L. Balcazar',\n",
              " '+ Timothy P. Barber',\n",
              " '+ Michael W. Barley',\n",
              " '- Cristina Baroglio',\n",
              " '+ Peter Bartlett',\n",
              " '- Eric Baum',\n",
              " '+ Welton Becket',\n",
              " '- Shai Ben-David',\n",
              " '+ George Berg',\n",
              " '+ Neil Berkman',\n",
              " '+ Malini Bhandaru',\n",
              " '+ Bir Bhanu',\n",
              " '+ Reinhard Blasig',\n",
              " '- Avrim Blum',\n",
              " '- Anselm Blumer',\n",
              " '+ Justin Boyan',\n",
              " '+ Carla E. Brodley',\n",
              " '+ Nader Bshouty',\n",
              " '- Wray Buntine',\n",
              " '- Andrey Burago',\n",
              " '+ Tom Bylander',\n",
              " '+ Bill Byrne',\n",
              " '- Claire Cardie',\n",
              " '+ Richard A. Caruana',\n",
              " '+ John Case',\n",
              " '+ Jason Catlett',\n",
              " '+ Nicolo Cesa-Bianchi',\n",
              " '- Philip Chan',\n",
              " '+ Mark Changizi',\n",
              " '+ Pang-Chieh Chen',\n",
              " '- Zhixiang Chen',\n",
              " '+ Wan P. Chiang',\n",
              " '- Steve A. Chien',\n",
              " '+ Jeffery Clouse',\n",
              " '+ William Cohen',\n",
              " '+ David Cohn',\n",
              " '- Clare Bates Congdon',\n",
              " '- Antoine Cornuejols',\n",
              " '+ Mark W. Craven',\n",
              " '+ Robert P. Daley',\n",
              " '+ Lindley Darden',\n",
              " '- Chris Darken',\n",
              " '- Bhaskar Dasgupta',\n",
              " '- Brian D. Davidson',\n",
              " '+ Michael de la Maza',\n",
              " '- Olivier De Vel',\n",
              " '- Scott E. Decatur',\n",
              " '+ Gerald F. DeJong',\n",
              " '+ Kan Deng',\n",
              " '- Thomas G. Dietterich',\n",
              " '+ Michael J. Donahue',\n",
              " '+ George A. Drastal',\n",
              " '+ Harris Drucker',\n",
              " '- Chris Drummond',\n",
              " '+ Hal Duncan',\n",
              " '- Thomas Ellman',\n",
              " '+ Tapio Elomaa',\n",
              " '+ Susan L. Epstein',\n",
              " '+ Bob Evans',\n",
              " '- Claudio Facchinetti',\n",
              " '+ Tom Fawcett',\n",
              " '- Usama Fayyad',\n",
              " '+ Aaron Feigelson',\n",
              " '+ Nicolas Fiechter',\n",
              " '+ David Finton',\n",
              " '+ John Fischer',\n",
              " '+ Paul Fischer',\n",
              " '+ Seth Flanders',\n",
              " '+ Lance Fortnow',\n",
              " '- Ameur Foued',\n",
              " '+ Judy A. Franklin',\n",
              " '+ Yoav Freund',\n",
              " '+ Johannes Furnkranz',\n",
              " '+ Merrick L. Furst',\n",
              " '+ Jean Gabriel Ganascia',\n",
              " '+ William Gasarch',\n",
              " '+ Ricard Gavalda',\n",
              " '+ Melinda T. Gervasio',\n",
              " '+ Yolanda Gil',\n",
              " '+ David Gillman',\n",
              " '- Attilio Giordana',\n",
              " '+ Kate Goelz',\n",
              " '+ Paul W. Goldberg',\n",
              " '+ Sally Goldman',\n",
              " '+ Diana Gordon',\n",
              " '+ Geoffrey Gordon',\n",
              " '+ Jonathan Gratch',\n",
              " '+ Leslie Grate',\n",
              " '+ William A. Greene',\n",
              " '+ Russell Greiner',\n",
              " '+ Marko Grobelnik',\n",
              " '+ Tal Grossman',\n",
              " '+ Margo Guertin',\n",
              " '+ Tom Hancock',\n",
              " '+ Earl S. Harris Jr.',\n",
              " '+ David Haussler',\n",
              " '+ Matthias Heger',\n",
              " '+ Lisa Hellerstein',\n",
              " '+ David Helmbold',\n",
              " '+ Daniel Hennessy',\n",
              " '+ Haym Hirsh',\n",
              " '+ Jonathan Hodgson',\n",
              " '+ Robert C. Holte',\n",
              " '+ Jiarong Hong',\n",
              " '- Chun-Nan Hsu',\n",
              " '+ Kazushi Ikeda',\n",
              " '+ Masayuki Inaba',\n",
              " '- Drago Indjic',\n",
              " '+ Nitin Indurkhya',\n",
              " '+ Jeff Jackson',\n",
              " '+ Sanjay Jain',\n",
              " '+ Wolfgang Janko',\n",
              " '- Klaus P. Jantke',\n",
              " '+ Nathalie Japkowicz',\n",
              " '+ George H. John',\n",
              " '+ Randolph Jones',\n",
              " '+ Michael I. Jordan',\n",
              " '+ Leslie Pack Kaelbling',\n",
              " '+ Bala Kalyanasundaram',\n",
              " '- Thomas E. Kammeyer',\n",
              " '- Grigoris Karakoulas',\n",
              " '+ Michael Kearns',\n",
              " '+ Neela Khan',\n",
              " '+ Roni Khardon',\n",
              " '+ Dennis F. Kibler',\n",
              " '+ Jorg-Uwe Kietz',\n",
              " '- Efim Kinber',\n",
              " '- Jyrki Kivinen',\n",
              " '- Emanuel Knill',\n",
              " '- Craig Knoblock',\n",
              " '+ Ron Kohavi',\n",
              " '+ Pascal Koiran',\n",
              " '+ Moshe Koppel',\n",
              " '+ Daniel Kortenkamp',\n",
              " '+ Matevz Kovacic',\n",
              " '- Stefan Kramer',\n",
              " '+ Martinch Krikis',\n",
              " '+ Martin Kummer',\n",
              " '- Eyal Kushilevitz',\n",
              " '- Stephen Kwek',\n",
              " '+ Wai Lam',\n",
              " '+ Ken Lang',\n",
              " '- Steffen Lange',\n",
              " '+ Pat Langley',\n",
              " '+ Mary Soon Lee',\n",
              " '+ Wee Sun Lee',\n",
              " '+ Moshe Leshno',\n",
              " '+ Long-Ji Lin',\n",
              " '- Charles X. Ling',\n",
              " '+ Michael Littman',\n",
              " '+ David Loewenstern',\n",
              " '- Phil Long',\n",
              " '+ Wolfgang Maass',\n",
              " '- Bruce A. MacDonald',\n",
              " '+ Rich Maclin',\n",
              " '- Sridhar Mahadevan',\n",
              " '- J. Jeffrey Mahoney',\n",
              " '+ Yishay Mansour',\n",
              " '+ Mario Marchand',\n",
              " '- Shaul Markovitch',\n",
              " '- Oded Maron',\n",
              " '+ Maja Mataric',\n",
              " '+ David Mathias',\n",
              " '+ Toshiyasu Matsushima',\n",
              " '- Stan Matwin',\n",
              " '- Eddy Mayoraz',\n",
              " '- R. Andrew McCallum',\n",
              " '- L. Thorne McCarty',\n",
              " '- Alexander M. Meystel',\n",
              " '+ Michael A. meystel',\n",
              " '- Steven Minton',\n",
              " '+ Nina Mishra',\n",
              " '+ Tom M. Mitchell',\n",
              " '+ Dunja Mladenic',\n",
              " '+ David Montgomery',\n",
              " '- Andrew W. Moore',\n",
              " '+ Johanne Morin',\n",
              " '+ Hiroshi Motoda',\n",
              " '- Stephen Muggleton',\n",
              " '+ Patrick M. Murphy',\n",
              " '- Sreerama K. Murthy',\n",
              " '+ Filippo Neri',\n",
              " '- Craig Nevill-Manning',\n",
              " '- Andrew Y. Ng',\n",
              " '+ Nikolay Nikolaev',\n",
              " '- Steven W. Norton',\n",
              " \"+ Joseph O'Sullivan\",\n",
              " '+ Dan Oblinger',\n",
              " '+ Jong-Hoon Oh',\n",
              " '- Arlindo Oliveira',\n",
              " '+ David W. Opitz',\n",
              " '+ Sandra Panizza',\n",
              " '+ Barak A. Pearlmutter',\n",
              " '- Ed Pednault',\n",
              " '+ Jing Peng',\n",
              " '+ Fernando Pereira',\n",
              " '+ Aurora Perez',\n",
              " '+ Bernhard Pfahringer',\n",
              " '+ David Pierce',\n",
              " '- Krishnan Pillaipakkamnatt',\n",
              " '+ Roberto Piola',\n",
              " '+ Leonard Pitt',\n",
              " '+ Lorien Y. Pratt',\n",
              " '- Armand Prieditis',\n",
              " '+ Foster J. Provost',\n",
              " '- J. R. Quinlan',\n",
              " '+ John Rachlin',\n",
              " '+ Vijay Raghavan',\n",
              " '- R. Bharat Rao',\n",
              " '- Priscilla Rasmussen',\n",
              " '+ Joel Ratsaby',\n",
              " '+ Michael Redmond',\n",
              " '+ Patricia J. Riddle',\n",
              " '+ Lance Riley',\n",
              " '+ Ronald L. Rivest',\n",
              " '+ Huw Roberts',\n",
              " '+ Dana Ron',\n",
              " '+ Robert S. Roos',\n",
              " '+ Justinian Rosca',\n",
              " '+ John R. Rose',\n",
              " '+ Dan Roth',\n",
              " '+ James S. Royer',\n",
              " '+ Ronitt Rubinfeld',\n",
              " '- Stuart Russell',\n",
              " '+ Lorenza Saitta',\n",
              " '+ Yoshifumi Sakai',\n",
              " '+ William Sakas',\n",
              " '+ Marcos Salganicoff',\n",
              " '- Steven Salzberg',\n",
              " '- Claude Sammut',\n",
              " '+ Cullen Schaffer',\n",
              " '+ Robert Schapire',\n",
              " '+ Mark Schwabacher',\n",
              " '+ Michele Sebag',\n",
              " '+ Gary M. Selzer',\n",
              " '+ Sebastian Seung',\n",
              " '- Arun Sharma',\n",
              " '+ Jude Shavlik',\n",
              " '+ Daniel L. Silver',\n",
              " '- Glenn Silverstein',\n",
              " '+ Yoram Singer',\n",
              " '+ Mona Singh',\n",
              " '+ Satinder Pal Singh',\n",
              " '+ Kimmen Sjolander',\n",
              " '+ David B. Skalak',\n",
              " '+ Sean Slattery',\n",
              " '+ Robert Sloan',\n",
              " '+ Donna Slonim',\n",
              " '+ Carl H. Smith',\n",
              " '+ Sonya Snedecor',\n",
              " '+ Von-Wun Soo',\n",
              " '- Thomas G. Spalthoff',\n",
              " '+ Mark Staley',\n",
              " '- Frank Stephan',\n",
              " '+ Mandayam T. Suraj',\n",
              " '+ Richard S. Sutton',\n",
              " '+ Joe Suzuki',\n",
              " '- Prasad Tadepalli',\n",
              " '+ Hiroshi Tanaka',\n",
              " '- Irina Tchoumatchenko',\n",
              " '- Brian Tester',\n",
              " '- Chen K. Tham',\n",
              " '+ Tatsuo Unemi',\n",
              " '- Lyle H. Ungar',\n",
              " '+ Paul Utgoff',\n",
              " '+ Karsten Verbeurgt',\n",
              " '+ Paul Vitanyi',\n",
              " '+ Xuemei Wang',\n",
              " '+ Manfred Warmuth',\n",
              " '+ Gary Weiss',\n",
              " '- Sholom Weiss',\n",
              " '- Thomas Wengerek',\n",
              " '- Bradley L. Whitehall',\n",
              " '- Alma Whitten',\n",
              " '+ Robert Williamson',\n",
              " '+ Janusz Wnek',\n",
              " '+ Kenji Yamanishi',\n",
              " '+ Takefumi Yamazaki',\n",
              " '+ Holly Yanco',\n",
              " '+ John M. Zelle',\n",
              " '- Thomas Zeugmann',\n",
              " '+ Jean-Daniel Zucker',\n",
              " '+ Darko Zupanic']"
            ]
          },
          "metadata": {
            "tags": []
          },
          "execution_count": 35
        }
      ]
    }
  ]
}